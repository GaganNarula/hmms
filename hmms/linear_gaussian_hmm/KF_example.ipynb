{
 "cells": [
  {
   "cell_type": "code",
   "execution_count": 1,
   "id": "cf0a1f23",
   "metadata": {},
   "outputs": [],
   "source": [
    "%load_ext autoreload\n",
    "%autoreload 2 "
   ]
  },
  {
   "cell_type": "code",
   "execution_count": 14,
   "id": "b521ab78",
   "metadata": {},
   "outputs": [],
   "source": [
    "from linear_gaussian_hmm import LinearGaussianHMM"
   ]
  },
  {
   "cell_type": "markdown",
   "id": "504445c5",
   "metadata": {},
   "source": [
    "# generate some fake data"
   ]
  },
  {
   "cell_type": "code",
   "execution_count": null,
   "id": "5e2df9de",
   "metadata": {},
   "outputs": [],
   "source": [
    "# time\n",
    "t = np.linspace()"
   ]
  }
 ],
 "metadata": {
  "kernelspec": {
   "display_name": "Python 3",
   "language": "python",
   "name": "python3"
  },
  "language_info": {
   "codemirror_mode": {
    "name": "ipython",
    "version": 3
   },
   "file_extension": ".py",
   "mimetype": "text/x-python",
   "name": "python",
   "nbconvert_exporter": "python",
   "pygments_lexer": "ipython3",
   "version": "3.8.8"
  }
 },
 "nbformat": 4,
 "nbformat_minor": 5
}
